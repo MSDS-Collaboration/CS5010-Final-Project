{
 "cells": [
  {
   "cell_type": "markdown",
   "metadata": {},
   "source": [
    "Sources:\n",
    "- NLTK Tutorial: https://medium.com/towards-artificial-intelligence/text-mining-in-python-steps-and-examples-78b3f8fd913b\n",
    "- NLTK Part-of-Speech Tagging Definitions: https://www.guru99.com/pos-tagging-chunking-nltk.html"
   ]
  },
  {
   "cell_type": "code",
   "execution_count": 1,
   "metadata": {},
   "outputs": [],
   "source": [
    "# Downloads you might need to try: \n",
    "# nltk.download('punkt')\n",
    "# nltk.download('wordnet')\n",
    "# nltk.download('stopwords')\n",
    "# nltk.download('averaged_perceptron_tagger')\n",
    "\n",
    "# Import libraries\n",
    "import pandas as pd\n",
    "import numpy as np\n",
    "import nltk\n",
    "import os\n",
    "import nltk.corpus\n",
    "from nltk.tokenize import word_tokenize\n",
    "from nltk.probability import FreqDist\n",
    "from nltk.stem import PorterStemmer\n",
    "from nltk.stem import WordNetLemmatizer\n",
    "\n",
    "# Create sample text \n",
    "text = \"In Brazil they drive on the right-hand side of the road. Brazil has a large coastline on the eastern side of South America\"\n"
   ]
  },
  {
   "cell_type": "code",
   "execution_count": 2,
   "metadata": {},
   "outputs": [
    {
     "data": {
      "text/plain": [
       "['In',\n",
       " 'Brazil',\n",
       " 'they',\n",
       " 'drive',\n",
       " 'on',\n",
       " 'the',\n",
       " 'right-hand',\n",
       " 'side',\n",
       " 'of',\n",
       " 'the',\n",
       " 'road',\n",
       " '.',\n",
       " 'Brazil',\n",
       " 'has',\n",
       " 'a',\n",
       " 'large',\n",
       " 'coastline',\n",
       " 'on',\n",
       " 'the',\n",
       " 'eastern',\n",
       " 'side',\n",
       " 'of',\n",
       " 'South',\n",
       " 'America']"
      ]
     },
     "execution_count": 2,
     "metadata": {},
     "output_type": "execute_result"
    }
   ],
   "source": [
    "# Passing the string text into word tokenize for breaking the sentences\n",
    "token = word_tokenize(text)\n",
    "token"
   ]
  },
  {
   "cell_type": "code",
   "execution_count": 3,
   "metadata": {},
   "outputs": [
    {
     "data": {
      "text/plain": [
       "FreqDist({'the': 3, 'Brazil': 2, 'on': 2, 'side': 2, 'of': 2, 'In': 1, 'they': 1, 'drive': 1, 'right-hand': 1, 'road': 1, ...})"
      ]
     },
     "execution_count": 3,
     "metadata": {},
     "output_type": "execute_result"
    }
   ],
   "source": [
    "# Creates a dictionary, key = word, value = frequency of that word *\n",
    "tokenFrequency = FreqDist(token)\n",
    "tokenFrequency"
   ]
  },
  {
   "cell_type": "code",
   "execution_count": 4,
   "metadata": {},
   "outputs": [
    {
     "data": {
      "text/plain": [
       "[('the', 3),\n",
       " ('Brazil', 2),\n",
       " ('on', 2),\n",
       " ('side', 2),\n",
       " ('of', 2),\n",
       " ('In', 1),\n",
       " ('they', 1),\n",
       " ('drive', 1),\n",
       " ('right-hand', 1),\n",
       " ('road', 1)]"
      ]
     },
     "execution_count": 4,
     "metadata": {},
     "output_type": "execute_result"
    }
   ],
   "source": [
    "# Frequency of the top ten words in a text box *\n",
    "topTokenFrequency = tokenFrequency.most_common(10)\n",
    "topTokenFrequency\n",
    "\n",
    "# FIXME: would be more useful after taking out words like \"the\", \"on\", \"at\""
   ]
  },
  {
   "cell_type": "code",
   "execution_count": 5,
   "metadata": {},
   "outputs": [
    {
     "name": "stdout",
     "output_type": "stream",
     "text": [
      "waited --> wait\n",
      "waiting --> wait\n",
      "waits --> wait\n"
     ]
    }
   ],
   "source": [
    "# Stemmer *\n",
    "# Use stemming to identify the same word under different tenses\n",
    "# Might be useful, might not. Doesn't work for everything, either. \n",
    "pst = PorterStemmer()\n",
    "\n",
    "# Ex. 1: Individual word\n",
    "pst.stem(\"holding\")\n",
    "pst.stem(\"waiting\")\n",
    "pst.stem(\"waits\")\n",
    "\n",
    "# Ex. 2: List of Words \n",
    "stm = [\"waited\", \"waiting\", \"waits\"]\n",
    "for word in stm :\n",
    "    print(word+ \" --> \" + pst.stem(word))"
   ]
  },
  {
   "cell_type": "code",
   "execution_count": 6,
   "metadata": {},
   "outputs": [
    {
     "name": "stdout",
     "output_type": "stream",
     "text": [
      "rocks:  rock\n",
      "corpora:  corpus\n"
     ]
    }
   ],
   "source": [
    "# Lemmatizer \n",
    "lemmatizer = WordNetLemmatizer() \n",
    "print(\"rocks: \", lemmatizer.lemmatize(\"rocks\")) \n",
    "print(\"corpora: \", lemmatizer.lemmatize(\"corpora\"))"
   ]
  },
  {
   "cell_type": "code",
   "execution_count": 7,
   "metadata": {},
   "outputs": [
    {
     "name": "stdout",
     "output_type": "stream",
     "text": [
      "====================================\n",
      "All Words:\n",
      "['in', 'brazil', 'they', 'drive', 'on', 'the', 'right-hand', 'side', 'of', 'the', 'road', '.', 'brazil', 'has', 'a', 'large', 'coastline', 'on', 'the', 'eastern', 'side', 'of', 'south', 'america']\n",
      "====================================\n",
      "No Stop Words:\n",
      "['brazil', 'drive', 'right-hand', 'side', 'road', '.', 'brazil', 'large', 'coastline', 'eastern', 'side', 'south', 'america']\n",
      "====================================\n"
     ]
    }
   ],
   "source": [
    "# Stop Words (i.e. clearing the clutter) *\n",
    "from nltk.corpus import stopwords\n",
    "a = set(stopwords.words(\"english\"))\n",
    "text = \"In Brazil they drive on the right-hand side of the road. Brazil has a large coastline on the eastern side of South America\"\n",
    "text1 = word_tokenize(text.lower())\n",
    "print(\"====================================\\nAll Words:\")\n",
    "print(text1)\n",
    "print(\"====================================\\nNo Stop Words:\")\n",
    "stopwords = [x for x in text1 if x not in a]\n",
    "print(stopwords)\n",
    "print(\"====================================\")"
   ]
  },
  {
   "cell_type": "code",
   "execution_count": 14,
   "metadata": {},
   "outputs": [
    {
     "name": "stdout",
     "output_type": "stream",
     "text": [
      "[('In', 'IN')]\n",
      "[('Brazil', 'NNP')]\n",
      "[('they', 'PRP')]\n",
      "[('drive', 'NN')]\n",
      "[('on', 'IN')]\n",
      "[('the', 'DT')]\n",
      "[('right-hand', 'NN')]\n",
      "[('side', 'NN')]\n",
      "[('of', 'IN')]\n",
      "[('the', 'DT')]\n",
      "[('road', 'NN')]\n",
      "[('.', '.')]\n",
      "[('Brazil', 'NNP')]\n",
      "[('has', 'VBZ')]\n",
      "[('a', 'DT')]\n",
      "[('large', 'JJ')]\n",
      "[('coastline', 'NN')]\n",
      "[('on', 'IN')]\n",
      "[('the', 'DT')]\n",
      "[('eastern', 'JJ')]\n",
      "[('side', 'NN')]\n",
      "[('of', 'IN')]\n",
      "[('South', 'NNP')]\n",
      "[('America', 'NNP')]\n"
     ]
    }
   ],
   "source": [
    "# Part-of-Speech Tagging\n",
    "# Verbs, nouns, prepositions, etc.\n",
    "# Definitions: https://www.guru99.com/pos-tagging-chunking-nltk.html\n",
    "text = \"In Brazil they drive on the right-hand side of the road. Brazil has a large coastline on the eastern side of South America\"\n",
    "textTokenized = word_tokenize(text)\n",
    "for token in textTokenized:\n",
    "    print(nltk.pos_tag([token]))"
   ]
  },
  {
   "cell_type": "code",
   "execution_count": null,
   "metadata": {},
   "outputs": [],
   "source": []
  }
 ],
 "metadata": {
  "kernelspec": {
   "display_name": "Python 3",
   "language": "python",
   "name": "python3"
  },
  "language_info": {
   "codemirror_mode": {
    "name": "ipython",
    "version": 3
   },
   "file_extension": ".py",
   "mimetype": "text/x-python",
   "name": "python",
   "nbconvert_exporter": "python",
   "pygments_lexer": "ipython3",
   "version": "3.7.7"
  }
 },
 "nbformat": 4,
 "nbformat_minor": 4
}
